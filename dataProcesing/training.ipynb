{
 "cells": [
  {
   "cell_type": "code",
   "execution_count": 2,
   "metadata": {},
   "outputs": [],
   "source": [
    "import numpy as np\n",
    "import pandas as pd\n",
    "import matplotlib.pyplot as plt\n",
    "import cv2\n",
    "import tensorflow as tf\n",
    "from PIL import Image\n",
    "import os\n",
    "from sklearn.model_selection import train_test_split\n",
    "from sklearn.metrics import accuracy_score\n",
    "from keras.utils import to_categorical\n",
    "from keras.models import Sequential, load_model\n",
    "from keras.layers import Conv2D, MaxPool2D, Dense, Flatten, Dropout"
   ]
  },
  {
   "cell_type": "code",
   "execution_count": 4,
   "metadata": {},
   "outputs": [
    {
     "name": "stdout",
     "output_type": "stream",
     "text": [
      "e:\\Downloads\\zad\\obrazy\\dataProcesing\n",
      "Error loading image\n",
      "(39208, 30, 30, 3) (39208,)\n"
     ]
    }
   ],
   "source": [
    "data = []\n",
    "labels = []\n",
    "classes = 43\n",
    "cur_path = os.getcwd()\n",
    "print(cur_path)\n",
    "\n",
    "# Retrieving the images and their labels\n",
    "for i in range(classes):\n",
    "    path = os.path.join(cur_path, 'train', str(i))\n",
    "    images = os.listdir(path)\n",
    "    for a in images:\n",
    "        try:\n",
    "            image = Image.open(path + '\\\\' + a)\n",
    "            image = image.resize((30, 30))\n",
    "            image = np.array(image)\n",
    "            data.append(image)\n",
    "            labels.append(i)\n",
    "        except:\n",
    "            print(\"Error loading image\")\n",
    "\n",
    "# Converting lists into numpy arrays\n",
    "data = np.array(data)\n",
    "labels = np.array(labels)\n",
    "print(data.shape, labels.shape)"
   ]
  },
  {
   "cell_type": "code",
   "execution_count": 5,
   "metadata": {},
   "outputs": [
    {
     "name": "stdout",
     "output_type": "stream",
     "text": [
      "(31366, 30, 30, 3) (7842, 30, 30, 3) (31366,) (7842,)\n",
      "(30, 30)\n",
      "Shape = (30, 30, 3)\n"
     ]
    }
   ],
   "source": [
    "# Splitting training and testing dataset\n",
    "X_t1, X_t2, y_t1, y_t2 = train_test_split(data, labels, test_size=0.2, random_state=42)\n",
    "print(X_t1.shape, X_t2.shape, y_t1.shape, y_t2.shape)\n",
    "#Converting the labels into one hot encoding\n",
    "y_t1 = to_categorical(y_t1, 43)\n",
    "y_t2 = to_categorical(y_t2, 43)\n",
    "\n",
    "print(f\"Shape = {X_t1.shape[1:]}\")"
   ]
  },
  {
   "cell_type": "code",
   "execution_count": 7,
   "metadata": {},
   "outputs": [],
   "source": [
    "#Building the model\n",
    "model = Sequential()\n",
    "model.add(Conv2D(filters=32, kernel_size=(5,5), activation='relu', input_shape=X_t1.shape[1:]))\n",
    "model.add(Conv2D(filters=32, kernel_size=(5,5), activation='relu'))\n",
    "model.add(MaxPool2D(pool_size=(2, 2)))\n",
    "model.add(Dropout(rate=0.25))\n",
    "model.add(Conv2D(filters=64, kernel_size=(3, 3), activation='relu'))\n",
    "model.add(Conv2D(filters=64, kernel_size=(3, 3), activation='relu'))\n",
    "model.add(MaxPool2D(pool_size=(2, 2)))\n",
    "model.add(Dropout(rate=0.25))\n",
    "model.add(Flatten())\n",
    "model.add(Dense(256, activation='relu'))\n",
    "model.add(Dropout(rate=0.5))\n",
    "model.add(Dense(43, activation='softmax'))\n",
    "#Compilation of the model\n",
    "model.compile(loss='categorical_crossentropy', optimizer='adam', metrics=['accuracy'])\n",
    "eps = 15"
   ]
  },
  {
   "cell_type": "code",
   "execution_count": 18,
   "metadata": {},
   "outputs": [
    {
     "name": "stdout",
     "output_type": "stream",
     "text": [
      "(None, 30, 30, 3)\n"
     ]
    }
   ],
   "source": [
    "# for layer in model.layers:\n",
    "#     for output in layer.input_shape:\n",
    "#         print(output)\n",
    "print(model.layers[0].input_shape)"
   ]
  },
  {
   "cell_type": "code",
   "execution_count": 5,
   "metadata": {},
   "outputs": [
    {
     "name": "stdout",
     "output_type": "stream",
     "text": [
      "Epoch 1/15\n",
      "981/981 [==============================] - 61s 61ms/step - loss: 2.0284 - accuracy: 0.4891 - val_loss: 0.4983 - val_accuracy: 0.8653\n",
      "Epoch 2/15\n",
      "981/981 [==============================] - 63s 65ms/step - loss: 0.7349 - accuracy: 0.7822 - val_loss: 0.2632 - val_accuracy: 0.9263\n",
      "Epoch 3/15\n",
      "981/981 [==============================] - 56s 57ms/step - loss: 0.5315 - accuracy: 0.8446 - val_loss: 0.2543 - val_accuracy: 0.9296\n",
      "Epoch 4/15\n",
      "981/981 [==============================] - 62s 64ms/step - loss: 0.4254 - accuracy: 0.8731 - val_loss: 0.1223 - val_accuracy: 0.9652\n",
      "Epoch 5/15\n",
      "981/981 [==============================] - 52s 53ms/step - loss: 0.3720 - accuracy: 0.8904 - val_loss: 0.1326 - val_accuracy: 0.9614\n",
      "Epoch 6/15\n",
      "981/981 [==============================] - 54s 55ms/step - loss: 0.3334 - accuracy: 0.9004 - val_loss: 0.1189 - val_accuracy: 0.9666\n",
      "Epoch 7/15\n",
      "981/981 [==============================] - 55s 56ms/step - loss: 0.3161 - accuracy: 0.9059 - val_loss: 0.0841 - val_accuracy: 0.9779\n",
      "Epoch 8/15\n",
      "981/981 [==============================] - 54s 55ms/step - loss: 0.3004 - accuracy: 0.9137 - val_loss: 0.1412 - val_accuracy: 0.9555\n",
      "Epoch 9/15\n",
      "981/981 [==============================] - 52s 53ms/step - loss: 0.3236 - accuracy: 0.9061 - val_loss: 0.0881 - val_accuracy: 0.9765\n",
      "Epoch 10/15\n",
      "981/981 [==============================] - 53s 54ms/step - loss: 0.2816 - accuracy: 0.9184 - val_loss: 0.0946 - val_accuracy: 0.9702\n",
      "Epoch 11/15\n",
      "981/981 [==============================] - 57s 58ms/step - loss: 0.2793 - accuracy: 0.9200 - val_loss: 0.0733 - val_accuracy: 0.9791\n",
      "Epoch 12/15\n",
      "981/981 [==============================] - 60s 61ms/step - loss: 0.2559 - accuracy: 0.9265 - val_loss: 0.0605 - val_accuracy: 0.9821\n",
      "Epoch 13/15\n",
      "981/981 [==============================] - 60s 62ms/step - loss: 0.2418 - accuracy: 0.9310 - val_loss: 0.0767 - val_accuracy: 0.9788\n",
      "Epoch 14/15\n",
      "981/981 [==============================] - 58s 59ms/step - loss: 0.3858 - accuracy: 0.8970 - val_loss: 0.0577 - val_accuracy: 0.9846\n",
      "Epoch 15/15\n",
      "981/981 [==============================] - 61s 62ms/step - loss: 0.2093 - accuracy: 0.9397 - val_loss: 0.0806 - val_accuracy: 0.9760\n"
     ]
    },
    {
     "name": "stderr",
     "output_type": "stream",
     "text": [
      "e:\\Downloads\\zad\\obrazy\\ImageVenv\\Lib\\site-packages\\keras\\src\\engine\\training.py:3000: UserWarning: You are saving your model as an HDF5 file via `model.save()`. This file format is considered legacy. We recommend using instead the native Keras format, e.g. `model.save('my_model.keras')`.\n",
      "  saving_api.save_model(\n"
     ]
    }
   ],
   "source": [
    "anc = model.fit(X_t1, y_t1, batch_size=32, epochs=eps, validation_data=(X_t2, y_t2))\n",
    "model.save(\"roadSignsModel.h5\")"
   ]
  },
  {
   "cell_type": "code",
   "execution_count": 10,
   "metadata": {},
   "outputs": [
    {
     "name": "stdout",
     "output_type": "stream",
     "text": [
      "395/395 [==============================] - 4s 11ms/step\n",
      "Accuracy: 0.9296912114014252\n"
     ]
    }
   ],
   "source": [
    "# Accuracy with the test data\n",
    "y_test = pd.read_csv('Test.csv')\n",
    "labels = y_test[\"ClassId\"].values\n",
    "imgs = y_test[\"Path\"].values\n",
    "data=[]\n",
    "for img in imgs:\n",
    "   image = Image.open(img)\n",
    "   image = image.resize((30,30))\n",
    "   data.append(np.array(image))\n",
    "X_test=np.array(data)\n",
    "predictions = model.predict(X_test)\n",
    "\n",
    "# Get the predicted class indices\n",
    "pred_classes = np.argmax(predictions, axis=1)\n",
    "\n",
    "# Calculate accuracy for all samples\n",
    "accuracy = accuracy_score(labels, pred_classes)\n",
    "print(\"Accuracy:\", accuracy)"
   ]
  }
 ],
 "metadata": {
  "kernelspec": {
   "display_name": "Python 3",
   "language": "python",
   "name": "python3"
  },
  "language_info": {
   "codemirror_mode": {
    "name": "ipython",
    "version": 3
   },
   "file_extension": ".py",
   "mimetype": "text/x-python",
   "name": "python",
   "nbconvert_exporter": "python",
   "pygments_lexer": "ipython3",
   "version": "3.11.4"
  }
 },
 "nbformat": 4,
 "nbformat_minor": 2
}
